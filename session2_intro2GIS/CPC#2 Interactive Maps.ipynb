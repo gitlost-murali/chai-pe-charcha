{
 "cells": [
  {
   "cell_type": "markdown",
   "metadata": {},
   "source": [
    "# Satellite Imagery query, parse and render\n",
    "The following notebook does a few things, it explores, how to query for images with the Google Earth Engine (GEE) Python API, filter using date ranges and metadata and adding image tiles to render from GEE."
   ]
  },
  {
   "cell_type": "code",
   "execution_count": 2,
   "metadata": {},
   "outputs": [],
   "source": [
    "import bqplot\n",
    "import datetime\n",
    "import dateutil.parser\n",
    "import ee\n",
    "import ipywidgets\n",
    "import ipyleaflet\n",
    "import IPython.display\n",
    "import numpy as np\n",
    "import pprint\n",
    "import pandas as pd\n",
    "import traitlets\n",
    "\n",
    "# Configure the pretty printing output & initialize earthengine.\n",
    "pp = pprint.PrettyPrinter(depth=4)\n",
    "ee.Initialize()"
   ]
  },
  {
   "cell_type": "code",
   "execution_count": 3,
   "metadata": {},
   "outputs": [],
   "source": [
    "# Function to get sizes in Human readable format\n",
    "suffixes = ['B', 'KB', 'MB', 'GB', 'TB', 'PB']\n",
    "def humansize(nbytes):\n",
    "    i = 0\n",
    "    while nbytes >= 1024 and i < len(suffixes)-1:\n",
    "        nbytes /= 1024.\n",
    "        i += 1\n",
    "    f = ('%.2f' % nbytes).rstrip('0').rstrip('.')\n",
    "    return '%s %s' % (f, suffixes[i])"
   ]
  },
  {
   "cell_type": "markdown",
   "metadata": {},
   "source": [
    "*While single images are great to do quick analytics, the true power of the Earth Engine environment comes with the possibility of looking at really large and heavy image collections. In GEE environment image collections have their own characteristic setup and are often composed of multiple single images. They often have the similar band structure and generally share a similar metadata structure for filtering and querying.*\n",
    "\n",
    "In this step we query an image collection and get the size and numbe of items in a collection. "
   ]
  },
  {
   "cell_type": "code",
   "execution_count": 4,
   "metadata": {},
   "outputs": [
    {
     "name": "stdout",
     "output_type": "stream",
     "text": [
      "Total number of LS-8 assets with filters: 10681\n",
      "\n",
      "Total size of LS-8 collection : 5.68 TB\n"
     ]
    }
   ],
   "source": [
    "#Public Image Collections\n",
    "l8sr = ee.ImageCollection('LANDSAT/LC08/C01/T1_SR').filterDate('2018-08-01','2018-12-01').filterMetadata('CLOUD_COVER','less_than',2)\n",
    "\n",
    "# Get collection size\n",
    "print('Total number of LS-8 assets with filters: '+str(l8sr.size().getInfo()))\n",
    "print('\\n'+'Total size of LS-8 collection : '+str(humansize(l8sr.reduceColumns(ee.Reducer.sum(), ['system:asset_size']).getInfo()['sum'])))"
   ]
  },
  {
   "cell_type": "code",
   "execution_count": 7,
   "metadata": {},
   "outputs": [
    {
     "name": "stdout",
     "output_type": "stream",
     "text": [
      "{'bands': [{'crs': 'EPSG:32628',\n",
      "            'crs_transform': [30.0, 0.0, 341385.0, 0.0, -30.0, 8807715.0],\n",
      "            'data_type': {'max': 32767,\n",
      "                          'min': -32768,\n",
      "                          'precision': 'int',\n",
      "                          'type': 'PixelType'},\n",
      "            'dimensions': [9161, 9161],\n",
      "            'id': 'B1'},\n",
      "           {'crs': 'EPSG:32628',\n",
      "            'crs_transform': [30.0, 0.0, 341385.0, 0.0, -30.0, 8807715.0],\n",
      "            'data_type': {'max': 32767,\n",
      "                          'min': -32768,\n",
      "                          'precision': 'int',\n",
      "                          'type': 'PixelType'},\n",
      "            'dimensions': [9161, 9161],\n",
      "            'id': 'B2'},\n",
      "           {'crs': 'EPSG:32628',\n",
      "            'crs_transform': [30.0, 0.0, 341385.0, 0.0, -30.0, 8807715.0],\n",
      "            'data_type': {'max': 32767,\n",
      "                          'min': -32768,\n",
      "                          'precision': 'int',\n",
      "                          'type': 'PixelType'},\n",
      "            'dimensions': [9161, 9161],\n",
      "            'id': 'B3'},\n",
      "           {'crs': 'EPSG:32628',\n",
      "            'crs_transform': [30.0, 0.0, 341385.0, 0.0, -30.0, 8807715.0],\n",
      "            'data_type': {'max': 32767,\n",
      "                          'min': -32768,\n",
      "                          'precision': 'int',\n",
      "                          'type': 'PixelType'},\n",
      "            'dimensions': [9161, 9161],\n",
      "            'id': 'B4'},\n",
      "           {'crs': 'EPSG:32628',\n",
      "            'crs_transform': [30.0, 0.0, 341385.0, 0.0, -30.0, 8807715.0],\n",
      "            'data_type': {'max': 32767,\n",
      "                          'min': -32768,\n",
      "                          'precision': 'int',\n",
      "                          'type': 'PixelType'},\n",
      "            'dimensions': [9161, 9161],\n",
      "            'id': 'B5'},\n",
      "           {'crs': 'EPSG:32628',\n",
      "            'crs_transform': [30.0, 0.0, 341385.0, 0.0, -30.0, 8807715.0],\n",
      "            'data_type': {'max': 32767,\n",
      "                          'min': -32768,\n",
      "                          'precision': 'int',\n",
      "                          'type': 'PixelType'},\n",
      "            'dimensions': [9161, 9161],\n",
      "            'id': 'B6'},\n",
      "           {'crs': 'EPSG:32628',\n",
      "            'crs_transform': [30.0, 0.0, 341385.0, 0.0, -30.0, 8807715.0],\n",
      "            'data_type': {'max': 32767,\n",
      "                          'min': -32768,\n",
      "                          'precision': 'int',\n",
      "                          'type': 'PixelType'},\n",
      "            'dimensions': [9161, 9161],\n",
      "            'id': 'B7'},\n",
      "           {'crs': 'EPSG:32628',\n",
      "            'crs_transform': [30.0, 0.0, 341385.0, 0.0, -30.0, 8807715.0],\n",
      "            'data_type': {'max': 32767,\n",
      "                          'min': -32768,\n",
      "                          'precision': 'int',\n",
      "                          'type': 'PixelType'},\n",
      "            'dimensions': [9161, 9161],\n",
      "            'id': 'B10'},\n",
      "           {'crs': 'EPSG:32628',\n",
      "            'crs_transform': [30.0, 0.0, 341385.0, 0.0, -30.0, 8807715.0],\n",
      "            'data_type': {'max': 32767,\n",
      "                          'min': -32768,\n",
      "                          'precision': 'int',\n",
      "                          'type': 'PixelType'},\n",
      "            'dimensions': [9161, 9161],\n",
      "            'id': 'B11'},\n",
      "           {'crs': 'EPSG:32628',\n",
      "            'crs_transform': [30.0, 0.0, 341385.0, 0.0, -30.0, 8807715.0],\n",
      "            'data_type': {'max': 255,\n",
      "                          'min': 0,\n",
      "                          'precision': 'int',\n",
      "                          'type': 'PixelType'},\n",
      "            'dimensions': [9161, 9161],\n",
      "            'id': 'sr_aerosol'},\n",
      "           {'crs': 'EPSG:32628',\n",
      "            'crs_transform': [30.0, 0.0, 341385.0, 0.0, -30.0, 8807715.0],\n",
      "            'data_type': {'max': 65535,\n",
      "                          'min': 0,\n",
      "                          'precision': 'int',\n",
      "                          'type': 'PixelType'},\n",
      "            'dimensions': [9161, 9161],\n",
      "            'id': 'pixel_qa'},\n",
      "           {'crs': 'EPSG:32628',\n",
      "            'crs_transform': [30.0, 0.0, 341385.0, 0.0, -30.0, 8807715.0],\n",
      "            'data_type': {'max': 65535,\n",
      "                          'min': 0,\n",
      "                          'precision': 'int',\n",
      "                          'type': 'PixelType'},\n",
      "            'dimensions': [9161, 9161],\n",
      "            'id': 'radsat_qa'}],\n",
      " 'id': 'LANDSAT/LC08/C01/T1_SR/LC08_001004_20180807',\n",
      " 'properties': {'CLOUD_COVER': 0.07,\n",
      "                'CLOUD_COVER_LAND': 0.0,\n",
      "                'EARTH_SUN_DISTANCE': 1.014138,\n",
      "                'ESPA_VERSION': '2_23_0_1a',\n",
      "                'GEOMETRIC_RMSE_MODEL': 7.453,\n",
      "                'GEOMETRIC_RMSE_MODEL_X': 5.24,\n",
      "                'GEOMETRIC_RMSE_MODEL_Y': 5.3,\n",
      "                'IMAGE_QUALITY_OLI': 9.0,\n",
      "                'IMAGE_QUALITY_TIRS': 9.0,\n",
      "                'LANDSAT_ID': 'LC08_L1TP_001004_20180807_20180815_01_T1',\n",
      "                'LEVEL1_PRODUCTION_DATE': 1534304141000.0,\n",
      "                'PIXEL_QA_VERSION': 'generate_pixel_qa_1.6.0',\n",
      "                'SATELLITE': 'LANDSAT_8',\n",
      "                'SENSING_TIME': '2018-08-07T14:07:44.9036280Z',\n",
      "                'SOLAR_AZIMUTH_ANGLE': -164.147568,\n",
      "                'SOLAR_ZENITH_ANGLE': 62.196999,\n",
      "                'SR_APP_VERSION': 'LaSRC_1.3.0',\n",
      "                'WRS_PATH': 1.0,\n",
      "                'WRS_ROW': 4.0,\n",
      "                'system:asset_size': 607570856,\n",
      "                'system:footprint': {'coordinates': [[...],\n",
      "                                                     [...],\n",
      "                                                     [...],\n",
      "                                                     [...],\n",
      "                                                     [...],\n",
      "                                                     [...],\n",
      "                                                     [...],\n",
      "                                                     [...],\n",
      "                                                     [...],\n",
      "                                                     [...],\n",
      "                                                     [...],\n",
      "                                                     [...],\n",
      "                                                     [...],\n",
      "                                                     [...],\n",
      "                                                     [...],\n",
      "                                                     [...],\n",
      "                                                     [...],\n",
      "                                                     [...],\n",
      "                                                     [...],\n",
      "                                                     [...],\n",
      "                                                     [...]],\n",
      "                                     'type': 'LinearRing'},\n",
      "                'system:index': 'LC08_001004_20180807',\n",
      "                'system:time_end': 1533650864900.0,\n",
      "                'system:time_start': 1533650864900.0},\n",
      " 'type': 'Image',\n",
      " 'version': 1534665769954733}\n"
     ]
    },
    {
     "data": {
      "text/plain": [
       "['B1',\n",
       " 'B2',\n",
       " 'B3',\n",
       " 'B4',\n",
       " 'B5',\n",
       " 'B6',\n",
       " 'B7',\n",
       " 'B10',\n",
       " 'B11',\n",
       " 'sr_aerosol',\n",
       " 'pixel_qa',\n",
       " 'radsat_qa']"
      ]
     },
     "execution_count": 7,
     "metadata": {},
     "output_type": "execute_result"
    }
   ],
   "source": [
    "# Get sample image from collection\n",
    "sample_image = ee.Image(l8sr.first())\n",
    "pp.pprint(sample_image.getInfo())\n",
    "band_names_original = sample_image.bandNames()\n",
    "band_names_original.getInfo()"
   ]
  },
  {
   "cell_type": "code",
   "execution_count": 6,
   "metadata": {},
   "outputs": [],
   "source": [
    "# Function to get tilelayer url from earthengine server\n",
    "def GetTileLayerUrl(ee_image_object):\n",
    "  map_id = ee.Image(ee_image_object).getMapId()\n",
    "  tile_url_template = \"https://earthengine.googleapis.com/map/{mapid}/{{z}}/{{x}}/{{y}}?token={token}\"\n",
    "  return tile_url_template.format(**map_id)"
   ]
  },
  {
   "cell_type": "markdown",
   "metadata": {},
   "source": [
    "# Calculate a Spectral Index (NDVI)"
   ]
  },
  {
   "cell_type": "markdown",
   "metadata": {},
   "source": [
    "The normalized difference vegetation index ($NDVI$) is a band ratio that is related to the amount of green vegetation. This formula is for the four band PlanetScope Surface Reflectance imagery.\n",
    "\n",
    "\\begin{equation*}\n",
    "NDVI = \\frac{NIR — RED}{NIR + RED} = \\frac{Band4 — Band3}{Band4 + Band3}\n",
    "\\end{equation*}\n",
    "\n",
    "where $NIR$ is the near infrared band and $RED$ is red band."
   ]
  },
  {
   "cell_type": "markdown",
   "metadata": {},
   "source": [
    "### Compare image with greenery"
   ]
  },
  {
   "cell_type": "code",
   "execution_count": 8,
   "metadata": {},
   "outputs": [],
   "source": [
    "#Generate NDVI for Landsat SR\n",
    "img = l8sr.median()\n",
    "red = img.select(['B2']).rename('red')\n",
    "nir = img.select(['B5']).rename('nir')\n",
    "ndvi = (nir.subtract(red)).divide(nir.add(red)).rename('ndvi')"
   ]
  },
  {
   "cell_type": "code",
   "execution_count": 10,
   "metadata": {},
   "outputs": [
    {
     "data": {
      "application/vnd.jupyter.widget-view+json": {
       "model_id": "23bd41c239014d3391e3499ba8b326c1",
       "version_major": 2,
       "version_minor": 0
      },
      "text/plain": [
       "Map(center=[19.0056509, 78.164871], controls=(ZoomControl(options=['position', 'zoom_in_text', 'zoom_in_title'…"
      ]
     },
     "metadata": {},
     "output_type": "display_data"
    }
   ],
   "source": [
    "#Create a slider widget to add both Landsat-8 imagery without & w/o NDVI \n",
    "# Godavari - 19.0056509,78.164871\n",
    "# KBR park - 17.4216604,78.4179574, 15.25\n",
    "# Some US area - 37.4112,-122.0634\n",
    "map2 = ipyleaflet.Map(\n",
    "    center=(19.0056509,78.164871), zoom=12,\n",
    "    layout={'height':'500px'},\n",
    ")\n",
    "l8sr_tile_url=GetTileLayerUrl(l8sr.median().visualize(min=600, max=4000, bands=['B4', 'B3', 'B2']))\n",
    "ndvi_tile_url = GetTileLayerUrl(ndvi.visualize(bands=['ndvi'], min=-0.2, max=0.6, palette='grey,yellow,green'))  #Landsat 8 SR\n",
    "left = ipyleaflet.TileLayer(url=l8sr_tile_url)\n",
    "right=ipyleaflet.TileLayer(url=ndvi_tile_url)\n",
    "control = ipyleaflet.SplitMapControl(left_layer=left, right_layer=right)\n",
    "map2.add_control(control)\n",
    "map2"
   ]
  },
  {
   "cell_type": "markdown",
   "metadata": {},
   "source": [
    "## Year wise comparison"
   ]
  },
  {
   "cell_type": "markdown",
   "metadata": {},
   "source": [
    "### Create the image collection object\n"
   ]
  },
  {
   "cell_type": "code",
   "execution_count": 12,
   "metadata": {},
   "outputs": [],
   "source": [
    "#Public Image Collections\n",
    "l8sr_2014 = ee.ImageCollection('LANDSAT/LC08/C01/T1_SR').filterDate('2014-08-01','2014-12-01').filterMetadata('CLOUD_COVER','less_than',2)\n",
    "l8sr_2019 = ee.ImageCollection('LANDSAT/LC08/C01/T1_SR').filterDate('2018-08-01','2018-12-01').filterMetadata('CLOUD_COVER','less_than',2)\n"
   ]
  },
  {
   "cell_type": "code",
   "execution_count": 13,
   "metadata": {},
   "outputs": [],
   "source": [
    "#Generate NDVI for PlanetScope SR\n",
    "img = l8sr_2014.median()\n",
    "red = img.select(['B2']).rename('red')\n",
    "nir = img.select(['B5']).rename('nir')\n",
    "ndvi_2014 = (nir.subtract(red)).divide(nir.add(red)).rename('ndvi')\n",
    "\n",
    "#Generate NDVI for PlanetScope SR\n",
    "img = l8sr_2019.median()\n",
    "red = img.select(['B2']).rename('red')\n",
    "nir = img.select(['B5']).rename('nir')\n",
    "ndvi_2019 = (nir.subtract(red)).divide(nir.add(red)).rename('ndvi')"
   ]
  },
  {
   "cell_type": "code",
   "execution_count": 15,
   "metadata": {},
   "outputs": [
    {
     "data": {
      "application/vnd.jupyter.widget-view+json": {
       "model_id": "a3999fbea6b84d2b87bc549135c6e845",
       "version_major": 2,
       "version_minor": 0
      },
      "text/plain": [
       "Map(center=[19.2154792, 72.9995944], controls=(ZoomControl(options=['position', 'zoom_in_text', 'zoom_in_title…"
      ]
     },
     "metadata": {},
     "output_type": "display_data"
    }
   ],
   "source": [
    "#Create a slider widget to add both Landsat 8 and PlanetScope 4B SR imagery\n",
    "# Godavari - 19.0056509,78.164871\n",
    "# KBR park - 17.4216604,78.4179574, 15.25\n",
    "# Some US area - 37.4112,-122.0634\n",
    "# Mindspace - 17.4287132,78.3905353\n",
    "map3 = ipyleaflet.Map(\n",
    "    center=(19.2154792,72.9995944), zoom=12,\n",
    "    layout={'height':'500px'},\n",
    ")\n",
    "# Uncomment for image comparison.\n",
    "# l8sr2014_tile_url=GetTileLayerUrl(l8sr_2014.median().visualize(min=600, max=4000, bands=['B4', 'B3', 'B2']))\n",
    "# l8sr2019_tile_url = GetTileLayerUrl(l8sr_2019.median().visualize(min=600, max=4000, bands=['B4', 'B3', 'B2']))  #Landsat 8 SR\n",
    "ndvi2014_tile_url = GetTileLayerUrl(ndvi_2014.visualize(bands=['ndvi'], min=-0.2, max=0.6, palette='grey,yellow,green'))  #Landsat 8 SR\n",
    "ndvi2019_tile_url = GetTileLayerUrl(ndvi_2019.visualize(bands=['ndvi'], min=-0.2, max=0.6, palette='grey,yellow,green'))  #Landsat 8 SR\n",
    "# left = ipyleaflet.TileLayer(url=l8sr1985_tile_url)\n",
    "# right=ipyleaflet.TileLayer(url=l8sr2019_tile_url)\n",
    "left = ipyleaflet.TileLayer(url=ndvi2014_tile_url)\n",
    "right=ipyleaflet.TileLayer(url=ndvi2019_tile_url)\n",
    "control = ipyleaflet.SplitMapControl(left_layer=left, right_layer=right)\n",
    "map3.add_control(control)\n",
    "map3"
   ]
  },
  {
   "cell_type": "code",
   "execution_count": null,
   "metadata": {},
   "outputs": [],
   "source": []
  },
  {
   "cell_type": "markdown",
   "metadata": {},
   "source": [
    "## Summary"
   ]
  },
  {
   "cell_type": "markdown",
   "metadata": {},
   "source": [
    "We learned how to \n",
    "* Query an imagecollection using the Earth Engine API\n",
    "* Get the count and size of a collection\n",
    "* Adding a public dataset such as Landsat\n",
    "* Generate a Normalized Difference Vegetation Index (NDVI) for Landsat 8 Surface Reflectance image"
   ]
  }
 ],
 "metadata": {
  "hide_input": false,
  "kernelspec": {
   "display_name": "Python 3",
   "language": "python",
   "name": "python3"
  },
  "language_info": {
   "codemirror_mode": {
    "name": "ipython",
    "version": 3
   },
   "file_extension": ".py",
   "mimetype": "text/x-python",
   "name": "python",
   "nbconvert_exporter": "python",
   "pygments_lexer": "ipython3",
   "version": "3.7.3"
  },
  "varInspector": {
   "cols": {
    "lenName": 16,
    "lenType": 16,
    "lenVar": 40
   },
   "kernels_config": {
    "python": {
     "delete_cmd_postfix": "",
     "delete_cmd_prefix": "del ",
     "library": "var_list.py",
     "varRefreshCmd": "print(var_dic_list())"
    },
    "r": {
     "delete_cmd_postfix": ") ",
     "delete_cmd_prefix": "rm(",
     "library": "var_list.r",
     "varRefreshCmd": "cat(var_dic_list()) "
    }
   },
   "types_to_exclude": [
    "module",
    "function",
    "builtin_function_or_method",
    "instance",
    "_Feature"
   ],
   "window_display": false
  }
 },
 "nbformat": 4,
 "nbformat_minor": 4
}
